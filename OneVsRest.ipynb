{
 "cells": [
  {
   "attachments": {},
   "cell_type": "markdown",
   "metadata": {},
   "source": [
    "One Vs Rest algorithm: fits each class with one classifier to be fitted against the rest of the dataset (to the limit of n_classes)\n",
    "-multiclass and multilabel\n",
    "-supervised learning\n",
    "\n",
    "When to use?\n",
    "1) need something quick and easily interpretable\n",
    "2) when you want to inspect the classes specifically for further knowledge gain(can inspect the classifier assigned to class)\n",
    "3) computationally efficient"
   ]
  },
  {
   "cell_type": "code",
   "execution_count": null,
   "metadata": {},
   "outputs": [],
   "source": [
    "from sklearn.multiclass import OneVsRestClassifier\n",
    "clfr = OneVsRestClassifier(estimator, \n",
    "                           *, \n",
    "                           n_jobs=None, \n",
    "                           verbose=0)"
   ]
  },
  {
   "cell_type": "code",
   "execution_count": null,
   "metadata": {},
   "outputs": [],
   "source": [
    "##METHODS\n",
    "clfr.decision_function(X) #decision function for the 1vRest classifier\n",
    "clfr.fit(X, y) #fit the underlying estimator\n",
    "clfr.get_params([deep]) #get the parameters for the estimator\n",
    "clfr.predict(X) #predict the multi-class targets using the underlying estimator\n",
    "clfr.predict_proba(X) #Return probability estimates for the test data X.\n",
    "clfr.score(X, y,[,sampleweight]) #return the mean acc on the given test data\n",
    "clfr.set_params() #set the parameters of this estimator\n"
   ]
  },
  {
   "cell_type": "code",
   "execution_count": null,
   "metadata": {},
   "outputs": [],
   "source": [
    "##BOTH ATTRIBUTES\n",
    "clfr.estimators_\n",
    "clfr.classes_\n",
    "clfr.n_classes_\n",
    "clfr.label_binarizer_\n",
    "clfr.multilabel_\n",
    "clfr.n_features_in_\n",
    "clfr.feature_names_in_\n",
    "\n"
   ]
  },
  {
   "attachments": {},
   "cell_type": "markdown",
   "metadata": {},
   "source": [
    "PARAMETERS\n",
    "estimator= a regressor or classifier that implements fit, the estimator that the algorithm will be assigning to the individual classes\n",
    "n_jobs= number of processors to use\n",
    "    - -1 all available\n",
    "verbose= output messages"
   ]
  },
  {
   "attachments": {},
   "cell_type": "markdown",
   "metadata": {},
   "source": [
    "ATTRIBUTES\n",
    "estimators_ : collection of fitted sub-estimators\n",
    "classes_ : class labels\n",
    "n_classes : number of classes\n",
    "label_binarizer_ : object used to transform multiclass labels to binary labels and vice-versa\n",
    "multilabel_ : whether this is a multilabel classifier (T/F)\n",
    "n_features_in_ : number of features seen during the .fit()\n",
    "feature_names_in_ : names of the above features\n"
   ]
  }
 ],
 "metadata": {
  "kernelspec": {
   "display_name": "base",
   "language": "python",
   "name": "python3"
  },
  "language_info": {
   "codemirror_mode": {
    "name": "ipython",
    "version": 3
   },
   "file_extension": ".py",
   "mimetype": "text/x-python",
   "name": "python",
   "nbconvert_exporter": "python",
   "pygments_lexer": "ipython3",
   "version": "3.9.13"
  },
  "orig_nbformat": 4
 },
 "nbformat": 4,
 "nbformat_minor": 2
}
