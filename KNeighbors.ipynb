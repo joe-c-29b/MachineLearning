{
 "cells": [
  {
   "attachments": {},
   "cell_type": "markdown",
   "metadata": {},
   "source": [
    "K-Nearest Neighbors algorithm: classifies instances based on the majority vote or mean of the nearest instances\n",
    "-instance-based learning\n",
    "-does not create an internal model\n",
    "-lazy learning\n",
    "\n",
    "When to use?\n",
    "do not require a human-readable model\n",
    "1) have properly labeled data\n",
    "2) data is noise-free\n",
    "3) small dataset"
   ]
  },
  {
   "cell_type": "code",
   "execution_count": null,
   "metadata": {},
   "outputs": [],
   "source": [
    "from sklearn.neighbors import KNeighborsClassifier\n",
    "clfr = KNeighborsClassifier()"
   ]
  },
  {
   "cell_type": "code",
   "execution_count": null,
   "metadata": {},
   "outputs": [],
   "source": [
    "from sklearn.neighbors import KNeighborsRegressor\n",
    "reg = KNeighborsRegressor(n_neighbors=5, weights='uniform', algorithm='auto', leaf_size=30, p=2, metric='minkowski', metric_params=None, n_jobs=None)"
   ]
  },
  {
   "cell_type": "code",
   "execution_count": null,
   "metadata": {},
   "outputs": [],
   "source": [
    "##METHODS\n",
    "reg.fit(X, y)\n",
    "reg.get_params(deep=True) #get the parameters for this estimator\n",
    "reg.kneighbors(X=None, n_neighbors=None, return_distance=True) #find the K-neighbors of a point\n",
    "reg.kneighbors_graph(X=None, n_neighbors=None, mode='connectivity') #compute the weighted graph of k neighbors for points in X\n",
    "reg.predict(X) #predict the target for the provided data\n",
    "reg.score(X, y, sample_weight=None) #Return the coefficient of determination of the prediction.\n",
    "reg.set_params() #Set the parameters of this estimator\n",
    "\n",
    "##CLFR only method\n",
    "clfr.predict_proba(X) #Return probability estimates for the test data X."
   ]
  },
  {
   "cell_type": "code",
   "execution_count": null,
   "metadata": {},
   "outputs": [],
   "source": [
    "##REGRESSOR ATTRIBUTES\n",
    "reg.effective_metric_\n",
    "reg.effective_metric_params_\n",
    "reg.n_features_in_\n",
    "reg.feature_names_in_\n",
    "reg.n_samples_fit_\n",
    "##CLASSIFIER ATTRIBUTES\n",
    "clfr.classes_\n",
    "clfr.effective_metric_\n",
    "clfr.effective_metric_params_\n",
    "clfr.n_features_in_\n",
    "clfr.feature_names_in_\n",
    "clfr.n_samples_fit_\n",
    "clfr.outputs_2d_\n"
   ]
  },
  {
   "attachments": {},
   "cell_type": "markdown",
   "metadata": {},
   "source": [
    "PARAMETERS\n",
    "n_neighbors= (default 5) the number of neighbors to use for kneighbors queries\n",
    "weights= (default 'uniform') weight function being used\n",
    "    -'uniform' all points in each neighborhood weighted equally\n",
    "    -'distance' weight points by the inverse of their distance (closer the point, the higher the weight)\n",
    "    - user defined\n",
    "algorithm= (default 'auto') algorithm used to compute the nearest neighbors\n",
    "    -'ball_tree'\n",
    "    -'kd_tree'\n",
    "    -'brute' brute-force search\n",
    "    -'auto' decides best algorithm based on the fit method\n",
    "leaf_size= (default 30) leaf size passed to the algorithm, this parameter can affect speed of computation\n",
    "p= (default 2) power parameter for the minkowski metric\n",
    "metric= (default 'minkowski')\n",
    "metric_params= (default None) accepts a dictionary for additional keyword arguments for the metric function\n",
    "n_jobs= (default None) how the processing is going to occur\n",
    "    - -1 means using all available processors"
   ]
  },
  {
   "attachments": {},
   "cell_type": "markdown",
   "metadata": {},
   "source": [
    "ATTRIBUTES\n",
    "effective_metric_ : the distance metric to use\n",
    "effective_metric_params_ : additional keyword arguments for the metric function\n",
    "n_features_in_ : number of features seen during the fit \n",
    "feature_names_in_ : name of features seen during the fit (X must have feature names that are all strings)\n",
    "n_samples_fit_ : number of samples in the fitted data\n",
    "classes_ : class labels known to the classifier\n",
    "outputs_2d_ : "
   ]
  }
 ],
 "metadata": {
  "kernelspec": {
   "display_name": "base",
   "language": "python",
   "name": "python3"
  },
  "language_info": {
   "codemirror_mode": {
    "name": "ipython",
    "version": 3
   },
   "file_extension": ".py",
   "mimetype": "text/x-python",
   "name": "python",
   "nbconvert_exporter": "python",
   "pygments_lexer": "ipython3",
   "version": "3.9.13"
  },
  "orig_nbformat": 4
 },
 "nbformat": 4,
 "nbformat_minor": 2
}
