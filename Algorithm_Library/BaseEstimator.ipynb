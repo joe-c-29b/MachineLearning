{
 "cells": [
  {
   "attachments": {},
   "cell_type": "markdown",
   "metadata": {},
   "source": [
    "Base Estimator algorithm: this is the base class for all estimators in sklearn. All estimators should specify all the parameters that can be set at the class level in their __init__ as explicit keyword arguments\n",
    "-non-parametric\n",
    "-supervised learning\n",
    "\n",
    "When to use?\n",
    "1) doing an initial look at data\n",
    "2) want to set a specific parameter independently"
   ]
  },
  {
   "cell_type": "code",
   "execution_count": null,
   "metadata": {},
   "outputs": [],
   "source": [
    "from sklearn.base import BaseEstimator\n",
    "clfr = BaseEstimator(params=dict)"
   ]
  },
  {
   "cell_type": "code",
   "execution_count": null,
   "metadata": {},
   "outputs": [],
   "source": [
    "##METHODS\n",
    "clfr.get_params(deep=True) #get the parameters for the estimator\n",
    "clfr.set_params(**params) #set the parameters for the estimator"
   ]
  }
 ],
 "metadata": {
  "kernelspec": {
   "display_name": "base",
   "language": "python",
   "name": "python3"
  },
  "language_info": {
   "codemirror_mode": {
    "name": "ipython",
    "version": 3
   },
   "file_extension": ".py",
   "mimetype": "text/x-python",
   "name": "python",
   "nbconvert_exporter": "python",
   "pygments_lexer": "ipython3",
   "version": "3.9.13"
  },
  "orig_nbformat": 4
 },
 "nbformat": 4,
 "nbformat_minor": 2
}
