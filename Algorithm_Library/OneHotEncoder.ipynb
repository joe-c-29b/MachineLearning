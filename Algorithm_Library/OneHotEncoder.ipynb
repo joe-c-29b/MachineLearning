{
 "cells": [
  {
   "attachments": {},
   "cell_type": "markdown",
   "metadata": {},
   "source": [
    "OneHotEncoder: breaks a column with multiple response options into multiple columns that are 1 or 0 for each response option\n",
    "\n",
    "\n",
    "When to use?\n",
    "1) when you have more than 2 options for a categorical column\n"
   ]
  },
  {
   "cell_type": "code",
   "execution_count": null,
   "metadata": {},
   "outputs": [],
   "source": [
    "from sklearn.preprocessiong import OneHotEncoder\n",
    "ncdr = OneHotEncoder(*, \n",
    "                     categories='auto', \n",
    "                     drop=None, \n",
    "                     sparse='deprecated', \n",
    "                     sparse_output=True, \n",
    "                     dtype=<class 'numpy.float64'>, \n",
    "                     handle_unknown='error', \n",
    "                     min_frequency=None, \n",
    "                     max_categories=None)"
   ]
  },
  {
   "cell_type": "code",
   "execution_count": null,
   "metadata": {},
   "outputs": [],
   "source": [
    "##METHODS\n",
    "ncdr.fit(X, y) #fit the encoder\n",
    "ncdr.fit_transform(X, y) #fit to data and transform the data\n",
    "ncdr.get_feature_names_out([input_features]) #feature names for transformation, the categories that are being added\n",
    "ncdr.get_params([deep]) #get the parameters for the estimator\n",
    "ncdr.inverse_transform(X) #convert data back to the original representation, basically get rid of all the binary classes you just created, might not be perfect because things are getting merged back together\n",
    "ncdr.set_output() #set output container\n",
    "ncdr.set_params() #set the parameters of this estimator\n",
    "ncdr.transform(X) #transform the data using the one-hot encoder\n"
   ]
  },
  {
   "cell_type": "code",
   "execution_count": null,
   "metadata": {},
   "outputs": [],
   "source": [
    "##BOTH ATTRIBUTES\n",
    "ncdr.categories_ \n",
    "ncdr.drop_idx_\n",
    "ncdr.infrequent_categories_\n",
    "ncdr.n_features_in_\n",
    "ncdr.feature_names_in_"
   ]
  },
  {
   "attachments": {},
   "cell_type": "markdown",
   "metadata": {},
   "source": [
    "PARAMETERS\n",
    "categories= categories per feature\n",
    "    -'auto' : determine categories automatically from the training data\n",
    "    -list : categories[i] holds the categories expected in the ith column; the passed categories should not mix strings and numeric values within a single feature, and should be sorted in case of numeric values\n",
    "drop= specifies a methodology to use to drop one of the categories per feature; useful in situations where perfectly collinear features cause problems, such as when feeding the resulting data into an unregularized linear regression model.\n",
    "    -None : retain all features (default)\n",
    "    -'first' : drop the first category in each feature; if only one category is present, the feature will be dropped entirely\n",
    "    -'if_binary' : drop the first category in each feature with two categories; features with one or more than 2 categories are left intact\n",
    "    -array : drop[i] is the category in feature X[:,i]\n",
    "sparse= (True or False) will return sparse matrix if set True else will return an array (default True)\n",
    "sparse_output= (True or False) will return sparse matrix if set True else will return an array (default True)\n",
    "dtype= desired dtype of the output\n",
    "handle_unknown= specifies the way unknown categories are handled during transform\n",
    "    -'error' (default): raise an error if an unknown category is present during transform\n",
    "    -'ignore' : when an unknown category is encountered during transform, resulting encoded columns for this feature will be all zeros\n",
    "    -'infrequent_if_exist' : when an unknown category is encountered during transform, the resulting endcoded columns for this feature will map to the infreqeunt category if it exists; the infrequent category will be mapped to the last position in the encoding\n",
    "min_frequency : the threshold for a category to be considered infrequent (default=None)\n",
    "max_categories: the max number of features that can be output for a category when considering infrequent categories"
   ]
  },
  {
   "attachments": {},
   "cell_type": "markdown",
   "metadata": {},
   "source": [
    "ATTRIBUTES\n",
    "categories_ : categories of each feature determined during fitting\n",
    "drop_idx_ : \n",
    "infrequent_categories_ : list of infrequent categories for each features\n",
    "n_features_in_ : number of features seen during the .fit()\n",
    "feature_names_in_ : names of the above features\n"
   ]
  }
 ],
 "metadata": {
  "kernelspec": {
   "display_name": "base",
   "language": "python",
   "name": "python3"
  },
  "language_info": {
   "codemirror_mode": {
    "name": "ipython",
    "version": 3
   },
   "file_extension": ".py",
   "mimetype": "text/x-python",
   "name": "python",
   "nbconvert_exporter": "python",
   "pygments_lexer": "ipython3",
   "version": "3.9.13"
  },
  "orig_nbformat": 4
 },
 "nbformat": 4,
 "nbformat_minor": 2
}
